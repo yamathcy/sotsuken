{
 "cells": [
  {
   "cell_type": "code",
   "execution_count": 9,
   "metadata": {},
   "outputs": [
    {
     "name": "stderr",
     "output_type": "stream",
     "text": [
      "also installing the dependency 'mvtnorm'\n",
      "\n",
      "Warning message:\n",
      "\"unable to access index for repository http://www.stats.ox.ac.uk/pub/RWin/bin/windows/contrib/3.5:\n",
      "   URL 'http://www.stats.ox.ac.uk/pub/RWin/bin/windows/contrib/3.5/PACKAGES' を開けません \""
     ]
    },
    {
     "name": "stdout",
     "output_type": "stream",
     "text": [
      "package 'mvtnorm' successfully unpacked and MD5 sums checked\n",
      "package 'polycor' successfully unpacked and MD5 sums checked\n",
      "\n",
      "The downloaded binary packages are in\n",
      "\tC:\\Users\\match\\AppData\\Local\\Temp\\Rtmp4EiSkZ\\downloaded_packages\n"
     ]
    }
   ],
   "source": [
    "install.packages(\"polycor\", dependencies = TRUE)"
   ]
  },
  {
   "cell_type": "code",
   "execution_count": 1,
   "metadata": {},
   "outputs": [],
   "source": [
    "library(polycor)"
   ]
  },
  {
   "cell_type": "code",
   "execution_count": 14,
   "metadata": {},
   "outputs": [
    {
     "data": {
      "text/html": [
       "<table>\n",
       "<thead><tr><th scope=col>Name</th><th scope=col>Value</th></tr></thead>\n",
       "<tbody>\n",
       "\t<tr><td>メロディが複雑でわかりにくい                                            </td><td>39                                                                      </td></tr>\n",
       "\t<tr><td>リズムが複雑でわかりにくい                                              </td><td>36                                                                      </td></tr>\n",
       "\t<tr><td>other                                                                   </td><td>31                                                                      </td></tr>\n",
       "\t<tr><td>テンポが速い                                                            </td><td>28                                                                      </td></tr>\n",
       "\t<tr><td>音の飛びが激しく音程がとれない                                          </td><td>27                                                                      </td></tr>\n",
       "\t<tr><td>音域が広い                                                              </td><td>21                                                                      </td></tr>\n",
       "\t<tr><td>16分音符などが多くてリズムが細かい                                      </td><td>19                                                                      </td></tr>\n",
       "\t<tr><td>ロングトーンがあったり息継ぎタイミングがわかりにくく肺活量的に無理がある</td><td>13                                                                      </td></tr>\n",
       "\t<tr><td>シャウトやビブラートなど特殊奏法                                        </td><td> 4                                                                      </td></tr>\n",
       "\t<tr><td>英語の歌詞                                                              </td><td> 1                                                                      </td></tr>\n",
       "</tbody>\n",
       "</table>\n"
      ],
      "text/latex": [
       "\\begin{tabular}{r|ll}\n",
       " Name & Value\\\\\n",
       "\\hline\n",
       "\t メロディが複雑でわかりにくい                                             & 39                                                                      \\\\\n",
       "\t リズムが複雑でわかりにくい                                               & 36                                                                      \\\\\n",
       "\t other                                                                    & 31                                                                      \\\\\n",
       "\t テンポが速い                                                             & 28                                                                      \\\\\n",
       "\t 音の飛びが激しく音程がとれない                                           & 27                                                                      \\\\\n",
       "\t 音域が広い                                                               & 21                                                                      \\\\\n",
       "\t 16分音符などが多くてリズムが細かい                                       & 19                                                                      \\\\\n",
       "\t ロングトーンがあったり息継ぎタイミングがわかりにくく肺活量的に無理がある & 13                                                                      \\\\\n",
       "\t シャウトやビブラートなど特殊奏法                                         &  4                                                                      \\\\\n",
       "\t 英語の歌詞                                                               &  1                                                                      \\\\\n",
       "\\end{tabular}\n"
      ],
      "text/markdown": [
       "\n",
       "Name | Value | \n",
       "|---|---|---|---|---|---|---|---|---|---|\n",
       "| メロディが複雑でわかりにくい                                             | 39                                                                       | \n",
       "| リズムが複雑でわかりにくい                                               | 36                                                                       | \n",
       "| other                                                                    | 31                                                                       | \n",
       "| テンポが速い                                                             | 28                                                                       | \n",
       "| 音の飛びが激しく音程がとれない                                           | 27                                                                       | \n",
       "| 音域が広い                                                               | 21                                                                       | \n",
       "| 16分音符などが多くてリズムが細かい                                       | 19                                                                       | \n",
       "| ロングトーンがあったり息継ぎタイミングがわかりにくく肺活量的に無理がある | 13                                                                       | \n",
       "| シャウトやビブラートなど特殊奏法                                         |  4                                                                       | \n",
       "| 英語の歌詞                                                               |  1                                                                       | \n",
       "\n",
       "\n"
      ],
      "text/plain": [
       "   Name                                                                    \n",
       "1  メロディが複雑でわかりにくい                                            \n",
       "2  リズムが複雑でわかりにくい                                              \n",
       "3  other                                                                   \n",
       "4  テンポが速い                                                            \n",
       "5  音の飛びが激しく音程がとれない                                          \n",
       "6  音域が広い                                                              \n",
       "7  16分音符などが多くてリズムが細かい                                      \n",
       "8  ロングトーンがあったり息継ぎタイミングがわかりにくく肺活量的に無理がある\n",
       "9  シャウトやビブラートなど特殊奏法                                        \n",
       "10 英語の歌詞                                                              \n",
       "   Value\n",
       "1  39   \n",
       "2  36   \n",
       "3  31   \n",
       "4  28   \n",
       "5  27   \n",
       "6  21   \n",
       "7  19   \n",
       "8  13   \n",
       "9   4   \n",
       "10  1   "
      ]
     },
     "metadata": {},
     "output_type": "display_data"
    }
   ],
   "source": [
    "read.csv(\"s.csv\")"
   ]
  },
  {
   "cell_type": "code",
   "execution_count": 19,
   "metadata": {},
   "outputs": [],
   "source": [
    "polychor"
   ]
  },
  {
   "cell_type": "code",
   "execution_count": null,
   "metadata": {},
   "outputs": [],
   "source": []
  }
 ],
 "metadata": {
  "kernelspec": {
   "display_name": "R",
   "language": "R",
   "name": "ir"
  },
  "language_info": {
   "codemirror_mode": "r",
   "file_extension": ".r",
   "mimetype": "text/x-r-source",
   "name": "R",
   "pygments_lexer": "r",
   "version": "3.5.1"
  }
 },
 "nbformat": 4,
 "nbformat_minor": 2
}
